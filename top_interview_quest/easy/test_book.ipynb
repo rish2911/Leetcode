{
 "cells": [
  {
   "cell_type": "code",
   "execution_count": 1,
   "metadata": {},
   "outputs": [
    {
     "name": "stdout",
     "output_type": "stream",
     "text": [
      "100\n"
     ]
    }
   ],
   "source": [
    "class test:\n",
    "    def __init__(self, name = 0, score = 0) -> None:\n",
    "        self.name = name\n",
    "        self.score = score\n",
    "        pass\n",
    "abc = test()\n",
    "nmv = abc\n",
    "nmv.score = 100\n",
    "print(abc.score)"
   ]
  }
 ],
 "metadata": {
  "kernelspec": {
   "display_name": "Python 3.9.13 64-bit (microsoft store)",
   "language": "python",
   "name": "python3"
  },
  "language_info": {
   "codemirror_mode": {
    "name": "ipython",
    "version": 3
   },
   "file_extension": ".py",
   "mimetype": "text/x-python",
   "name": "python",
   "nbconvert_exporter": "python",
   "pygments_lexer": "ipython3",
   "version": "3.9.13"
  },
  "orig_nbformat": 4,
  "vscode": {
   "interpreter": {
    "hash": "33e3c9b1335627e65e54cf2ff2cbda7fcbd377a8aefdc149ed607ee7bd5de613"
   }
  }
 },
 "nbformat": 4,
 "nbformat_minor": 2
}
